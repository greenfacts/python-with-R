{
 "cells": [
  {
   "cell_type": "markdown",
   "id": "3fbf2c46-921a-4247-8f3f-09a4c228d4d6",
   "metadata": {},
   "source": [
    "# Installing and running R and Python together within juypyter\n",
    "1. Install R base\n",
    "2. Create and activate a virtual environment to work with R and Python\n",
    "3. pip install rpy2\n",
    "4. Add the Virtual Environment to Jupyter Notebook  \n",
    "  a. pip install --user ipykernel  \n",
    "  b. python -m ipykernel install --user --name=myenv  \n",
    "5. Launch Jupyter\n",
    "6. Add this to the first block: %load_ext rpy2.ipython\n",
    "7. Use this as the first line in an R code block: %%R\n",
    "8. Export R variables to Python: %R -o my_R_variable\n",
    "9. Export Python variables to R: %R -i my_Python_variable\n",
    "\n",
    "References\n",
    "- https://www.marsja.se/r-from-python-rpy2-tutorial/\n",
    "- https://janakiev.com/blog/jupyter-virtual-envs/"
   ]
  },
  {
   "cell_type": "code",
   "execution_count": null,
   "id": "95d9590f-e488-4edd-93cc-440280f0405d",
   "metadata": {},
   "outputs": [],
   "source": [
    "%load_ext rpy2.ipython"
   ]
  },
  {
   "cell_type": "code",
   "execution_count": 3,
   "id": "2be213de-9d9d-4098-9e25-c21068fbc16d",
   "metadata": {},
   "outputs": [
    {
     "name": "stdout",
     "output_type": "stream",
     "text": [
      "[1] 2 3\n"
     ]
    }
   ],
   "source": [
    "%%R\n",
    "c(2,3)"
   ]
  },
  {
   "cell_type": "code",
   "execution_count": 16,
   "id": "c84faaa2-3280-4ce2-a455-13bcce3c8245",
   "metadata": {},
   "outputs": [
    {
     "name": "stdout",
     "output_type": "stream",
     "text": [
      "Collecting numpy\n",
      "  Downloading numpy-1.21.2-cp39-cp39-macosx_10_9_x86_64.whl (17.0 MB)\n",
      "\u001b[K     |████████████████████████████████| 17.0 MB 18.0 MB/s eta 0:00:01     |███████████████████████████▌    | 14.6 MB 18.0 MB/s eta 0:00:01\n",
      "\u001b[?25hCollecting pandas\n",
      "  Using cached pandas-1.3.3-cp39-cp39-macosx_10_9_x86_64.whl (11.6 MB)\n",
      "Requirement already satisfied: pytz>=2017.3 in ./env_with_r/lib/python3.9/site-packages (from pandas) (2021.3)\n",
      "Requirement already satisfied: python-dateutil>=2.7.3 in ./env_with_r/lib/python3.9/site-packages (from pandas) (2.8.2)\n",
      "Requirement already satisfied: six>=1.5 in ./env_with_r/lib/python3.9/site-packages (from python-dateutil>=2.7.3->pandas) (1.16.0)\n",
      "Installing collected packages: numpy, pandas\n",
      "Successfully installed numpy-1.21.2 pandas-1.3.3\n"
     ]
    }
   ],
   "source": [
    "!pip install numpy pandas"
   ]
  },
  {
   "cell_type": "code",
   "execution_count": 4,
   "id": "2db1f84a-09fa-4b6c-9a06-5bde7eb1612c",
   "metadata": {},
   "outputs": [
    {
     "name": "stdout",
     "output_type": "stream",
     "text": [
      "[1] 2 3\n"
     ]
    }
   ],
   "source": [
    "%%R\n",
    "c(2,3)"
   ]
  },
  {
   "cell_type": "code",
   "execution_count": 6,
   "id": "54a2dbbc-51c9-4dde-956f-072a8888f24e",
   "metadata": {},
   "outputs": [
    {
     "name": "stdout",
     "output_type": "stream",
     "text": [
      "Package           Version\n",
      "----------------- -------\n",
      "appnope           0.1.2\n",
      "attrs             21.2.0\n",
      "backcall          0.2.0\n",
      "cffi              1.14.6\n",
      "debugpy           1.4.3\n",
      "decorator         5.1.0\n",
      "entrypoints       0.3\n",
      "iniconfig         1.1.1\n",
      "ipykernel         6.4.1\n",
      "ipython           7.28.0\n",
      "ipython-genutils  0.2.0\n",
      "jedi              0.18.0\n",
      "Jinja2            3.0.1\n",
      "jupyter-client    7.0.5\n",
      "jupyter-core      4.8.1\n",
      "MarkupSafe        2.0.1\n",
      "matplotlib-inline 0.1.3\n",
      "nest-asyncio      1.5.1\n",
      "numpy             1.21.2\n",
      "packaging         21.0\n",
      "pandas            1.3.3\n",
      "parso             0.8.2\n",
      "pexpect           4.8.0\n",
      "pickleshare       0.7.5\n",
      "pip               21.2.4\n",
      "pluggy            1.0.0\n",
      "prompt-toolkit    3.0.20\n",
      "ptyprocess        0.7.0\n",
      "py                1.10.0\n",
      "pycparser         2.20\n",
      "Pygments          2.10.0\n",
      "pyparsing         2.4.7\n",
      "pytest            6.2.5\n",
      "python-dateutil   2.8.2\n",
      "pytz              2021.3\n",
      "pyzmq             22.3.0\n",
      "rpy2              3.1.0\n",
      "setuptools        49.2.1\n",
      "simplegeneric     0.8.1\n",
      "six               1.16.0\n",
      "toml              0.10.2\n",
      "tornado           6.1\n",
      "traitlets         5.1.0\n",
      "tzlocal           3.0\n",
      "wcwidth           0.2.5\n"
     ]
    }
   ],
   "source": [
    "!pip list"
   ]
  },
  {
   "cell_type": "code",
   "execution_count": 7,
   "id": "f31ad0d0-aff5-4a21-adac-c3c7a3cb548e",
   "metadata": {},
   "outputs": [],
   "source": [
    "%%R\n",
    "install.packages(\"ggplot2\", repos='http://cran.us.r-project.org', quiet=TRUE)\n",
    "library(ggplot2)"
   ]
  },
  {
   "cell_type": "code",
   "execution_count": 8,
   "id": "3ce826bd-3430-4806-a268-2b988c38a9d7",
   "metadata": {},
   "outputs": [],
   "source": [
    "%%R\n",
    "data(diamonds)"
   ]
  },
  {
   "cell_type": "code",
   "execution_count": 9,
   "id": "331802e1-3c02-41aa-b98e-8619d8a267ac",
   "metadata": {},
   "outputs": [
    {
     "name": "stdout",
     "output_type": "stream",
     "text": [
      "# A tibble: 53,940 × 10\n",
      "   carat cut       color clarity depth table price     x     y     z\n",
      "   <dbl> <ord>     <ord> <ord>   <dbl> <dbl> <int> <dbl> <dbl> <dbl>\n",
      " 1  0.23 Ideal     E     SI2      61.5    55   326  3.95  3.98  2.43\n",
      " 2  0.21 Premium   E     SI1      59.8    61   326  3.89  3.84  2.31\n",
      " 3  0.23 Good      E     VS1      56.9    65   327  4.05  4.07  2.31\n",
      " 4  0.29 Premium   I     VS2      62.4    58   334  4.2   4.23  2.63\n",
      " 5  0.31 Good      J     SI2      63.3    58   335  4.34  4.35  2.75\n",
      " 6  0.24 Very Good J     VVS2     62.8    57   336  3.94  3.96  2.48\n",
      " 7  0.24 Very Good I     VVS1     62.3    57   336  3.95  3.98  2.47\n",
      " 8  0.26 Very Good H     SI1      61.9    55   337  4.07  4.11  2.53\n",
      " 9  0.22 Fair      E     VS2      65.1    61   337  3.87  3.78  2.49\n",
      "10  0.23 Very Good H     VS1      59.4    61   338  4     4.05  2.39\n",
      "# … with 53,930 more rows\n"
     ]
    }
   ],
   "source": [
    "%%R\n",
    "diamonds\n"
   ]
  },
  {
   "cell_type": "code",
   "execution_count": 10,
   "id": "f3a698d0-7f4d-47d6-956c-ec8aa97167ca",
   "metadata": {},
   "outputs": [
    {
     "data": {
      "image/png": "[encoded data removed]"
     },
     "metadata": {},
     "output_type": "display_data"
    }
   ],
   "source": [
    "%%R\n",
    "ggplot(diamonds, aes(x=carat, y=price)) + geom_point()"
   ]
  },
  {
   "cell_type": "code",
   "execution_count": 11,
   "id": "4d2465fe-5817-444a-8a44-e7f43c1696f3",
   "metadata": {},
   "outputs": [],
   "source": [
    "%R -o diamonds"
   ]
  },
  {
   "cell_type": "code",
   "execution_count": 13,
   "id": "671c4269-5100-43f9-972c-92dd564ffb49",
   "metadata": {},
   "outputs": [
    {
     "data": {
      "text/plain": [
       "pandas.core.frame.DataFrame"
      ]
     },
     "execution_count": 13,
     "metadata": {},
     "output_type": "execute_result"
    }
   ],
   "source": [
    "type(diamonds)"
   ]
  },
  {
   "cell_type": "code",
   "execution_count": 14,
   "id": "ad542bcb-113f-4ffa-9f4b-94a68ad2162b",
   "metadata": {},
   "outputs": [
    {
     "data": {
      "text/html": [
       "<div>\n",
       "<style scoped>\n",
       "    .dataframe tbody tr th:only-of-type {\n",
       "        vertical-align: middle;\n",
       "    }\n",
       "\n",
       "    .dataframe tbody tr th {\n",
       "        vertical-align: top;\n",
       "    }\n",
       "\n",
       "    .dataframe thead th {\n",
       "        text-align: right;\n",
       "    }\n",
       "</style>\n",
       "<table border=\"1\" class=\"dataframe\">\n",
       "  <thead>\n",
       "    <tr style=\"text-align: right;\">\n",
       "      <th></th>\n",
       "      <th>carat</th>\n",
       "      <th>cut</th>\n",
       "      <th>color</th>\n",
       "      <th>clarity</th>\n",
       "      <th>depth</th>\n",
       "      <th>table</th>\n",
       "      <th>price</th>\n",
       "      <th>x</th>\n",
       "      <th>y</th>\n",
       "      <th>z</th>\n",
       "    </tr>\n",
       "  </thead>\n",
       "  <tbody>\n",
       "    <tr>\n",
       "      <th>1</th>\n",
       "      <td>0.23</td>\n",
       "      <td>Ideal</td>\n",
       "      <td>E</td>\n",
       "      <td>SI2</td>\n",
       "      <td>61.5</td>\n",
       "      <td>55.0</td>\n",
       "      <td>326</td>\n",
       "      <td>3.95</td>\n",
       "      <td>3.98</td>\n",
       "      <td>2.43</td>\n",
       "    </tr>\n",
       "    <tr>\n",
       "      <th>2</th>\n",
       "      <td>0.21</td>\n",
       "      <td>Premium</td>\n",
       "      <td>E</td>\n",
       "      <td>SI1</td>\n",
       "      <td>59.8</td>\n",
       "      <td>61.0</td>\n",
       "      <td>326</td>\n",
       "      <td>3.89</td>\n",
       "      <td>3.84</td>\n",
       "      <td>2.31</td>\n",
       "    </tr>\n",
       "    <tr>\n",
       "      <th>3</th>\n",
       "      <td>0.23</td>\n",
       "      <td>Good</td>\n",
       "      <td>E</td>\n",
       "      <td>VS1</td>\n",
       "      <td>56.9</td>\n",
       "      <td>65.0</td>\n",
       "      <td>327</td>\n",
       "      <td>4.05</td>\n",
       "      <td>4.07</td>\n",
       "      <td>2.31</td>\n",
       "    </tr>\n",
       "    <tr>\n",
       "      <th>4</th>\n",
       "      <td>0.29</td>\n",
       "      <td>Premium</td>\n",
       "      <td>I</td>\n",
       "      <td>VS2</td>\n",
       "      <td>62.4</td>\n",
       "      <td>58.0</td>\n",
       "      <td>334</td>\n",
       "      <td>4.20</td>\n",
       "      <td>4.23</td>\n",
       "      <td>2.63</td>\n",
       "    </tr>\n",
       "    <tr>\n",
       "      <th>5</th>\n",
       "      <td>0.31</td>\n",
       "      <td>Good</td>\n",
       "      <td>J</td>\n",
       "      <td>SI2</td>\n",
       "      <td>63.3</td>\n",
       "      <td>58.0</td>\n",
       "      <td>335</td>\n",
       "      <td>4.34</td>\n",
       "      <td>4.35</td>\n",
       "      <td>2.75</td>\n",
       "    </tr>\n",
       "  </tbody>\n",
       "</table>\n",
       "</div>"
      ],
      "text/plain": [
       "   carat      cut color clarity  depth  table  price     x     y     z\n",
       "1   0.23    Ideal     E     SI2   61.5   55.0    326  3.95  3.98  2.43\n",
       "2   0.21  Premium     E     SI1   59.8   61.0    326  3.89  3.84  2.31\n",
       "3   0.23     Good     E     VS1   56.9   65.0    327  4.05  4.07  2.31\n",
       "4   0.29  Premium     I     VS2   62.4   58.0    334  4.20  4.23  2.63\n",
       "5   0.31     Good     J     SI2   63.3   58.0    335  4.34  4.35  2.75"
      ]
     },
     "execution_count": 14,
     "metadata": {},
     "output_type": "execute_result"
    }
   ],
   "source": [
    "diamonds.head()"
   ]
  },
  {
   "cell_type": "code",
   "execution_count": 18,
   "id": "6c61f1c9-7c9c-43ab-b25b-3d060a1e38dd",
   "metadata": {},
   "outputs": [
    {
     "data": {
      "text/plain": [
       "[0, 1, 2, 3, 4, 5, 6, 7, 8, 9]"
      ]
     },
     "execution_count": 18,
     "metadata": {},
     "output_type": "execute_result"
    }
   ],
   "source": [
    "a=list(range(10))\n",
    "a"
   ]
  },
  {
   "cell_type": "code",
   "execution_count": 19,
   "id": "a81ddd2a-bed2-47fa-a26a-7660ba9d394e",
   "metadata": {},
   "outputs": [],
   "source": [
    "%R -i a"
   ]
  },
  {
   "cell_type": "code",
   "execution_count": 30,
   "id": "8a9d0ab7-0aba-496d-b457-f67f0a419ce2",
   "metadata": {},
   "outputs": [
    {
     "name": "stdout",
     "output_type": "stream",
     "text": [
      "[1] \"list a:\"\n",
      "[[1]]\n",
      "[1] 0\n",
      "\n",
      "[[2]]\n",
      "[1] 1\n",
      "\n",
      "[[3]]\n",
      "[1] 2\n",
      "\n",
      "[[4]]\n",
      "[1] 3\n",
      "\n",
      "[[5]]\n",
      "[1] 4\n",
      "\n",
      "[[6]]\n",
      "[1] 5\n",
      "\n",
      "[[7]]\n",
      "[1] 6\n",
      "\n",
      "[[8]]\n",
      "[1] 7\n",
      "\n",
      "[[9]]\n",
      "[1] 8\n",
      "\n",
      "[[10]]\n",
      "[1] 9\n",
      "\n"
     ]
    }
   ],
   "source": [
    "%%R\n",
    "print(\"list a:\")\n",
    "print(a)"
   ]
  },
  {
   "cell_type": "code",
   "execution_count": 29,
   "id": "b1ea201c-361f-4f7e-a42f-323e944655ad",
   "metadata": {},
   "outputs": [
    {
     "name": "stdout",
     "output_type": "stream",
     "text": [
      "[1] \"list a:\"\n",
      " [1] 0 1 2 3 4 5 6 7 8 9\n"
     ]
    }
   ],
   "source": [
    "%%R\n",
    "print(\"list a:\")\n",
    "print(unlist(a))"
   ]
  },
  {
   "cell_type": "code",
   "execution_count": 28,
   "id": "754fd6cd-b106-4367-9336-6304d0f75573",
   "metadata": {},
   "outputs": [
    {
     "name": "stdout",
     "output_type": "stream",
     "text": [
      "[1] 1\n"
     ]
    }
   ],
   "source": [
    "%%R\n",
    "print(a[[2]])"
   ]
  },
  {
   "cell_type": "code",
   "execution_count": 31,
   "id": "c9f98116-d62a-49ab-8232-a64b4be9f312",
   "metadata": {},
   "outputs": [],
   "source": [
    "%R -i diamonds"
   ]
  },
  {
   "cell_type": "code",
   "execution_count": 34,
   "id": "649aadaa-3f9a-45c5-89e8-19a506dcedad",
   "metadata": {},
   "outputs": [
    {
     "name": "stdout",
     "output_type": "stream",
     "text": [
      "[1] \"data.frame\"\n"
     ]
    }
   ],
   "source": [
    "%%R\n",
    "class(diamonds)"
   ]
  },
  {
   "cell_type": "code",
   "execution_count": 35,
   "id": "abcd414a-141f-4c41-addd-381d9d8d454a",
   "metadata": {},
   "outputs": [
    {
     "name": "stdout",
     "output_type": "stream",
     "text": [
      "Requirement already satisfied: numpy in ./env_with_r/lib/python3.9/site-packages (1.21.2)\n"
     ]
    }
   ],
   "source": [
    "!pip install numpy\n",
    "import numpy as np"
   ]
  },
  {
   "cell_type": "code",
   "execution_count": null,
   "id": "d5f0c653-b377-4f5b-9fa5-cf0e1e6a270e",
   "metadata": {},
   "outputs": [],
   "source": []
  }
 ],
 "metadata": {
  "kernelspec": {
   "display_name": "env_with_r",
   "language": "python",
   "name": "env_with_r"
  },
  "language_info": {
   "codemirror_mode": {
    "name": "ipython",
    "version": 3
   },
   "file_extension": ".py",
   "mimetype": "text/x-python",
   "name": "python",
   "nbconvert_exporter": "python",
   "pygments_lexer": "ipython3",
   "version": "3.9.4"
  }
 },
 "nbformat": 4,
 "nbformat_minor": 5
}
